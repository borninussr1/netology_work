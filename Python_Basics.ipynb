{
 "cells": [
  {
   "cell_type": "markdown",
   "id": "8ec6b811",
   "metadata": {},
   "source": [
    "*Задание 1¶\n",
    "\n",
    "Даны 2 переменных, в которых хранятся строки произвольной длины: phrase_1 и phrase_2.\n",
    "Напишите код, который проверяет какая из этих строк длиннее.\n",
    "\n",
    "Примеры работы программы:\n",
    "\n",
    "phrase_1 = 'Насколько проще было бы писать программы, если бы не заказчики'\n",
    "phrase_2 = '640Кб должно хватить для любых задач. Билл Гейтс (по легенде)'\n",
    "Результат:\n",
    "Фраза 1 длиннее фразы 2\n",
    "\n",
    "phrase_1 = '640Кб должно хватить для любых задач. Билл Гейтс (по легенде)'\n",
    "phrase_2 = 'Насколько проще было бы писать программы, если бы не заказчики'\n",
    "Результат:\n",
    "Фраза 2 длиннее фразы 1\n",
    "\n",
    "phrase_1 = 'Насколько проще было бы писать программы, если бы не заказчики'\n",
    "phrase_2 = 'Насколько проще было бы писать программы, если бы не заказчики'\n",
    "Результат:\n",
    "Фразы равной длины"
   ]
  },
  {
   "cell_type": "code",
   "execution_count": 5,
   "id": "a69e2cda",
   "metadata": {},
   "outputs": [
    {
     "name": "stdout",
     "output_type": "stream",
     "text": [
      "Фраза 1 длиннее фразы 2\n"
     ]
    }
   ],
   "source": [
    "phrase_1 = 'Насколько проще было бы писать программы, если бы не заказчики'\n",
    "phrase_2 = '640Кб должно хватить для любых задач. Билл Гейтс (по легенде)'\n",
    "if len(phrase_1)>len(phrase_2):\n",
    "    print('Фраза 1 длиннее фразы 2')\n",
    "elif len(phrase_1)<len(phrase_2):\n",
    "    print('Фраза 2 длиннее фразы 1')\n",
    "else:\n",
    "    print('Фразы равной длины')"
   ]
  },
  {
   "cell_type": "markdown",
   "id": "3eb2dc73",
   "metadata": {},
   "source": [
    "  Задание 2\n",
    "Дана переменная, в которой хранится четырехзначное число (год). Необходимо написать программу, которая выведет, является ли данный год високосным или обычным.\n",
    "\n",
    "Пример работы программы:\n",
    "\n",
    "year = 2020\n",
    "Результат:\n",
    "Високосный год\n",
    "\n",
    "year = 2019\n",
    "Результат:\n",
    "Обычный год"
   ]
  },
  {
   "cell_type": "code",
   "execution_count": 1,
   "id": "fdf89c06",
   "metadata": {},
   "outputs": [
    {
     "name": "stdout",
     "output_type": "stream",
     "text": [
      "2020\n",
      "Високосный год\n"
     ]
    }
   ],
   "source": [
    "year = int(input())\n",
    "if (year % 4 == 0) and (year % 100 != 0) or (year % 400 == 0):\n",
    "    print('Високосный год')\n",
    "else:\n",
    "    print('Обычный год')\n",
    "\n",
    "    "
   ]
  },
  {
   "cell_type": "markdown",
   "id": "a83866ce",
   "metadata": {},
   "source": [
    "Задание 3\n",
    "Необходимо написать программу, которая будет запрашивать у пользователя месяц и дату рождения и выводить соответствующий знак зодиака.\n",
    "\n",
    "Пример работы программы:\n",
    "\n",
    "Введите день:\n",
    "30\n",
    "\n",
    "Введите месяц:\n",
    "Август\n",
    "Результат:\n",
    "Ваш знак зодиака: Дева\n",
    "\n",
    "Введите день:\n",
    "29\n",
    "\n",
    "Введите месяц:\n",
    "Октябрь\n",
    "Результат:\n",
    "Ваш знак зодиака: Скорпион"
   ]
  },
  {
   "cell_type": "code",
   "execution_count": null,
   "id": "fc261a9b",
   "metadata": {},
   "outputs": [],
   "source": [
    "print('Введите день: ')\n",
    "day = int(input())\n",
    "month = input('Введите месяц: ')\n",
    "if month=='январь' and day>=21 or month=='февраль' and day<=19:\n",
    "    print('Ваш знак зодиака: Водолей')\n",
    "elif month=='февраль' and day>19 or month=='март' and day<=20:\n",
    "    print('Ваш знак зодиака: Рыбы')\n",
    "elif month=='март' and day>20 or month=='апрель' and day<=20:\n",
    "    print('Ваш знак зодиака: Овен')\n",
    "elif month=='апрель' and day>20 or month=='май' and day<=21:\n",
    "    print('Ваш знак зодиака: Телец')\n",
    "elif month=='май' and day>21 or month=='июнь' and day<=21:\n",
    "    print('Ваш знак зодиака: Близнецы')\n",
    "elif month=='июнь' and day>21 or month=='июль' and day<=22:\n",
    "    print('Ваш знак зодиака: Рак')\n",
    "elif month=='июль' and day>22 or month=='август' and day<=22:\n",
    "    print('Ваш знак зодиака: Лев')\n",
    "elif month=='август' and day>22 or month=='сентябрь' and day<=22:\n",
    "    print('Ваш знак зодиака: Дева')\n",
    "elif month=='сентябрь' and day>22 or month=='октябрь' and day<=22:\n",
    "    print('Ваш знак зодиака: Весы')\n",
    "elif month=='октябрь' and day>22 or month=='ноябрь' and day<=22:\n",
    "    print('Ваш знак зодиака: Скорпион')\n",
    "elif month=='ноябрь' and day>22 or month=='декабрь' and day<=21:\n",
    "    print('Ваш знак зодиака: Стрелец')\n",
    "else:\n",
    "    print('Ваш знак зодиака: Козерог')"
   ]
  },
  {
   "cell_type": "markdown",
   "id": "eacdb13e",
   "metadata": {},
   "source": [
    "Задание 4\n",
    "Вам нужно написать программу для подбора упаковок по размерам товара. Размеры хранятся в переменных (в сантиметрах):\n",
    "\n",
    "width = 10\n",
    "length = 205\n",
    "height = 5\n",
    "Используйте следующие правила:\n",
    "\n",
    "если каждое из трех измерений менее 15 сантиметров, то выведите на экран “Коробка №1”;\n",
    "если хотя бы одно из измерений больше 15 сантиметров, но менее 50 сантиметров, то выводите “Коробка №2”;\n",
    "если длина товара больше 2 метров, то выводите “Упаковка для лыж”;\n",
    "во всех остальных случаях выводите “Стандартная коробка №3”."
   ]
  },
  {
   "cell_type": "code",
   "execution_count": 2,
   "id": "7a472665",
   "metadata": {},
   "outputs": [
    {
     "name": "stdout",
     "output_type": "stream",
     "text": [
      "Коробка №1\n"
     ]
    }
   ],
   "source": [
    "width = 10\n",
    "length = 16\n",
    "height = 5\n",
    "sum1=width+length+height\n",
    "if sum1<=45:\n",
    "    print('Коробка №1')\n",
    "elif 45<sum1<=79:\n",
    "    print('Коробка №2')\n",
    "elif width>200 or  length>200 or height>200:\n",
    "    print('Упаковка для лыж')\n",
    "else:\n",
    "    print('Стандартная коробка №3')"
   ]
  },
  {
   "cell_type": "code",
   "execution_count": null,
   "id": "3f945637",
   "metadata": {},
   "outputs": [],
   "source": [
    "\n"
   ]
  },
  {
   "cell_type": "code",
   "execution_count": null,
   "id": "184f7709",
   "metadata": {},
   "outputs": [],
   "source": []
  }
 ],
 "metadata": {
  "kernelspec": {
   "display_name": "Python 3",
   "language": "python",
   "name": "python3"
  },
  "language_info": {
   "codemirror_mode": {
    "name": "ipython",
    "version": 3
   },
   "file_extension": ".py",
   "mimetype": "text/x-python",
   "name": "python",
   "nbconvert_exporter": "python",
   "pygments_lexer": "ipython3",
   "version": "3.8.8"
  }
 },
 "nbformat": 4,
 "nbformat_minor": 5
}
